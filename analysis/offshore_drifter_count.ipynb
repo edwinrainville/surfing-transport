{
 "cells": [
  {
   "cell_type": "markdown",
   "metadata": {},
   "source": [
    "# Number of Drifters that Went Off Shore"
   ]
  },
  {
   "cell_type": "code",
   "execution_count": 2,
   "metadata": {},
   "outputs": [],
   "source": [
    "import glob\n",
    "import netCDF4 as nc\n",
    "import numpy as np"
   ]
  },
  {
   "cell_type": "code",
   "execution_count": 3,
   "metadata": {},
   "outputs": [
    {
     "name": "stdout",
     "output_type": "stream",
     "text": [
      "['../data/mission_78.nc', '../data/mission_29.nc', '../data/mission_9.nc', '../data/mission_39.nc', '../data/mission_68.nc', '../data/mission_48.nc', '../data/mission_19.nc', '../data/mission_58.nc', '../data/mission_18.nc', '../data/mission_59.nc', '../data/mission_79.nc', '../data/mission_28.nc', '../data/mission_8.nc', '../data/mission_38.nc', '../data/mission_69.nc', '../data/mission_3.nc', '../data/mission_81.nc', '../data/mission_72.nc', '../data/mission_23.nc', '../data/mission_17.nc', '../data/mission_46.nc', '../data/mission_56.nc', '../data/mission_33.nc', '../data/mission_42.nc', '../data/mission_13.nc', '../data/mission_76.nc', '../data/mission_66.nc', '../data/mission_37.nc', '../data/mission_43.nc', '../data/mission_12.nc', '../data/mission_26.nc', '../data/mission_77.nc', '../data/mission_67.nc', '../data/mission_36.nc', '../data/mission_2.nc', '../data/mission_80.nc', '../data/mission_73.nc', '../data/mission_22.nc', '../data/mission_16.nc', '../data/mission_32.nc', '../data/mission_63.nc', '../data/mission_11.nc', '../data/mission_40.nc', '../data/mission_74.nc', '../data/mission_25.nc', '../data/mission_5.nc', '../data/mission_35.nc', '../data/mission_50.nc', '../data/mission_21.nc', '../data/mission_1.nc', '../data/mission_44.nc', '../data/mission_15.nc', '../data/mission_54.nc', '../data/mission_60.nc', '../data/mission_31.nc', '../data/mission_20.nc', '../data/mission_71.nc', '../data/mission_45.nc', '../data/mission_14.nc', '../data/mission_30.nc', '../data/mission_10.nc', '../data/mission_41.nc', '../data/mission_75.nc', '../data/mission_24.nc', '../data/mission_4.nc', '../data/mission_34.nc', '../data/mission_51.nc']\n",
      "88.47% of the true trajectories beached.\n"
     ]
    }
   ],
   "source": [
    "# Get a list of allthe missions in the data directory\n",
    "mission_list = glob.glob('../data/mission_*.nc')\n",
    "\n",
    "print(mission_list)\n",
    "num_beached = 0\n",
    "total_num_trajectories = 0\n",
    "for mission_nc in mission_list:\n",
    "    # Open the mission file \n",
    "    mission_dataset = nc.Dataset(mission_nc, mode='r')\n",
    "\n",
    "    x_locations = np.ma.masked_invalid(mission_dataset['xFRF'])\n",
    "    number_of_trajectories = x_locations.shape[0]\n",
    "\n",
    "    for trajectory_num in np.arange(number_of_trajectories):\n",
    "        first_non_nan_index =  np.argwhere(~np.isnan(x_locations[trajectory_num, :]) == True)[0][0]\n",
    "        last_non_nan_index = np.argwhere(~np.isnan(x_locations[trajectory_num, :]) == True)[-1][0]\n",
    "        buoy_final_location_x = x_locations[trajectory_num, last_non_nan_index]\n",
    "        init_x_loc = x_locations[trajectory_num, first_non_nan_index]\n",
    "\n",
    "        if (buoy_final_location_x < 300) and (init_x_loc > buoy_final_location_x):\n",
    "            num_beached += 1\n",
    "\n",
    "        total_num_trajectories += 1\n",
    "\n",
    "percent_beached = np.round((num_beached/total_num_trajectories * 100), 2)\n",
    "print(f'{percent_beached}% of the true trajectories beached.')"
   ]
  },
  {
   "cell_type": "code",
   "execution_count": null,
   "metadata": {},
   "outputs": [],
   "source": []
  }
 ],
 "metadata": {
  "kernelspec": {
   "display_name": "surfing-transport",
   "language": "python",
   "name": "python3"
  },
  "language_info": {
   "codemirror_mode": {
    "name": "ipython",
    "version": 3
   },
   "file_extension": ".py",
   "mimetype": "text/x-python",
   "name": "python",
   "nbconvert_exporter": "python",
   "pygments_lexer": "ipython3",
   "version": "3.12.3"
  }
 },
 "nbformat": 4,
 "nbformat_minor": 2
}
