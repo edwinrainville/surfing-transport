{
 "cells": [
  {
   "cell_type": "markdown",
   "id": "802bf660",
   "metadata": {},
   "source": [
    "# Compute the wind and wave conditions during the deployments"
   ]
  },
  {
   "cell_type": "code",
   "execution_count": 1,
   "id": "6ba7393f",
   "metadata": {},
   "outputs": [],
   "source": [
    "import numpy as np\n",
    "import pandas as pd"
   ]
  },
  {
   "cell_type": "code",
   "execution_count": 5,
   "id": "6054e587",
   "metadata": {},
   "outputs": [],
   "source": [
    "fname = '../data/mission_df.csv'\n",
    "mission_df = pd.read_csv(fname)"
   ]
  },
  {
   "cell_type": "code",
   "execution_count": null,
   "id": "4de180f8",
   "metadata": {},
   "outputs": [
    {
     "name": "stdout",
     "output_type": "stream",
     "text": [
      "Wind Speed Mean = 7.5 m/s\n",
      "Wind Speed Min = 1.6 m/s\n",
      "Wind Speed Max = 13.9 m/s\n"
     ]
    }
   ],
   "source": [
    "# Wind Speed\n",
    "print(f'Wind Speed Mean = {np.round(np.mean(mission_df['wind speed [m/s]']), 1)} m/s')\n",
    "print(f'Wind Speed Min = {np.round(np.min(mission_df['wind speed [m/s]']), 1)} m/s')\n",
    "print(f'Wind Speed Max = {np.round(np.max(mission_df['wind speed [m/s]']), 1)} m/s')\n"
   ]
  },
  {
   "cell_type": "code",
   "execution_count": 12,
   "id": "cc786d38",
   "metadata": {},
   "outputs": [
    {
     "name": "stdout",
     "output_type": "stream",
     "text": [
      "Wind Direction Mean = 149.8 deg\n",
      "Wind Direction Min = 4.2 deg\n",
      "Wind Direction Max = 359.5 deg\n"
     ]
    }
   ],
   "source": [
    "# Wind Direction\n",
    "print(f'Wind Direction Mean = {np.round(np.mean(mission_df['wind direction [deg]']), 1)} deg')\n",
    "print(f'Wind Direction Min = {np.round(np.min(mission_df['wind direction [deg]']), 1)} deg')\n",
    "print(f'Wind Direction Max = {np.round(np.max(mission_df['wind direction [deg]']), 1)} deg')\n"
   ]
  },
  {
   "cell_type": "code",
   "execution_count": 13,
   "id": "5aa452d3",
   "metadata": {},
   "outputs": [
    {
     "name": "stdout",
     "output_type": "stream",
     "text": [
      "Wave Height Mean = 1.3 m\n",
      "Wave Height Min = 0.4 m\n",
      "Wave Height Max = 2.7 m\n"
     ]
    }
   ],
   "source": [
    "# Wave Height\n",
    "print(f'Wave Height Mean = {np.round(np.mean(mission_df['Hs [m] (8marray)']), 1)} m')\n",
    "print(f'Wave Height Min = {np.round(np.min(mission_df['Hs [m] (8marray)']), 1)} m')\n",
    "print(f'Wave Height Max = {np.round(np.max(mission_df['Hs [m] (8marray)']), 1)} m')"
   ]
  },
  {
   "cell_type": "code",
   "execution_count": 14,
   "id": "5a252155",
   "metadata": {},
   "outputs": [
    {
     "name": "stdout",
     "output_type": "stream",
     "text": [
      "Wave Period Mean = 7.8 s\n",
      "Wave Period Min = 5.3 s\n",
      "Wave Period Max = 14.5 s\n"
     ]
    }
   ],
   "source": [
    "# Wave Period\n",
    "print(f'Wave Period Mean = {np.round(np.mean(mission_df['Tm [s] (8marray)']), 1)} s')\n",
    "print(f'Wave Period Min = {np.round(np.min(mission_df['Tm [s] (8marray)']), 1)} s')\n",
    "print(f'Wave Period Max = {np.round(np.max(mission_df['Tm [s] (8marray)']), 1)} s')"
   ]
  },
  {
   "cell_type": "code",
   "execution_count": 15,
   "id": "325d3890",
   "metadata": {},
   "outputs": [
    {
     "name": "stdout",
     "output_type": "stream",
     "text": [
      "Wave Direction Mean = 65.8 deg\n",
      "Wave Direction Min = 29.8 deg\n",
      "Wave Direction Max = 102.3 deg\n"
     ]
    }
   ],
   "source": [
    "# Wave Direction\n",
    "print(f'Wave Direction Mean = {np.round(np.mean(mission_df['Mean Dir [deg] (8marray)']), 1)} deg')\n",
    "print(f'Wave Direction Min = {np.round(np.min(mission_df['Mean Dir [deg] (8marray)']), 1)} deg')\n",
    "print(f'Wave Direction Max = {np.round(np.max(mission_df['Mean Dir [deg] (8marray)']), 1)} deg')"
   ]
  }
 ],
 "metadata": {
  "kernelspec": {
   "display_name": "surfing-transport",
   "language": "python",
   "name": "python3"
  },
  "language_info": {
   "codemirror_mode": {
    "name": "ipython",
    "version": 3
   },
   "file_extension": ".py",
   "mimetype": "text/x-python",
   "name": "python",
   "nbconvert_exporter": "python",
   "pygments_lexer": "ipython3",
   "version": "3.12.3"
  }
 },
 "nbformat": 4,
 "nbformat_minor": 5
}
