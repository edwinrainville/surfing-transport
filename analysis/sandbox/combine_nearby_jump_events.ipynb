{
 "cells": [
  {
   "cell_type": "markdown",
   "metadata": {},
   "source": [
    "# How to combine jump events that are close to each other - Within one characteristic wave period of each other"
   ]
  },
  {
   "cell_type": "code",
   "execution_count": 6,
   "metadata": {},
   "outputs": [
    {
     "name": "stdout",
     "output_type": "stream",
     "text": [
      "[[1, 2, 3, 11, 12, 13, 15, 16, 17], [30, 31, 32, 35, 36, 37], [50, 51, 52, 53, 60, 61, 62, 63]]\n"
     ]
    }
   ],
   "source": [
    "def combine_events(list_of_lists, wave_period):\n",
    "    combined_lists = [list_of_lists[0]]\n",
    "    i = 1\n",
    "    n = 0\n",
    "    while i < len(list_of_lists):\n",
    "        first_list = combined_lists[n]\n",
    "        second_list = list_of_lists[i]\n",
    "        if abs(first_list[-1] - second_list[0]) < wave_period:\n",
    "            combined_lists[n] = first_list + second_list\n",
    "            i += 1  # Move to the next pair of lists\n",
    "        else:\n",
    "            combined_lists.append(second_list)\n",
    "            i += 1  # Index up to next list in the original list\n",
    "            n += 1  # Index up to the next list in the combined lists\n",
    "\n",
    "    # Add the last list if it's not combined\n",
    "    if i == len(list_of_lists) - 1:\n",
    "        combined_lists.append(list_of_lists[-1])\n",
    "    return combined_lists\n",
    "\n",
    "# Example usage:\n",
    "list_of_lists = [[1, 2, 3], [11, 12, 13], [15, 16, 17], [30, 31, 32], [35, 36, 37], [50, 51, 52, 53], [60, 61, 62, 63]]\n",
    "combined = combine_events(list_of_lists, wave_period=10)\n",
    "print(combined)"
   ]
  },
  {
   "cell_type": "code",
   "execution_count": null,
   "metadata": {},
   "outputs": [],
   "source": []
  }
 ],
 "metadata": {
  "kernelspec": {
   "display_name": "surfing-transport",
   "language": "python",
   "name": "python3"
  },
  "language_info": {
   "codemirror_mode": {
    "name": "ipython",
    "version": 3
   },
   "file_extension": ".py",
   "mimetype": "text/x-python",
   "name": "python",
   "nbconvert_exporter": "python",
   "pygments_lexer": "ipython3",
   "version": "3.12.3"
  }
 },
 "nbformat": 4,
 "nbformat_minor": 2
}
